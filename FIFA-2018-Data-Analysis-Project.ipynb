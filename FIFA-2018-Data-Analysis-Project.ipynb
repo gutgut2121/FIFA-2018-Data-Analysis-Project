{
 "cells": [
  {
   "cell_type": "markdown",
   "metadata": {},
   "source": [
    "### FIFA 2018 Dataset Project\n"
   ]
  },
  {
   "cell_type": "markdown",
   "metadata": {},
   "source": [
    "\n",
    "\n",
    "##### FIFA 2018 Dataset Project\n",
    "+ Data cleaning\n",
    "+ Apply statistical functions\n",
    "+ Viualize graphs\n",
    "+ Data Analysis\n"
   ]
  },
  {
   "cell_type": "markdown",
   "metadata": {},
   "source": [
    "##### **Part 1**\n",
    "+ ###### Import dataset from kaggle\n",
    "+ ###### Display the dataframe"
   ]
  },
  {
   "cell_type": "markdown",
   "metadata": {},
   "source": [
    "###### Import dataset from kaggle"
   ]
  },
  {
   "cell_type": "code",
   "execution_count": 268,
   "metadata": {},
   "outputs": [
    {
     "name": "stderr",
     "output_type": "stream",
     "text": [
      "C:\\Users\\2121w\\AppData\\Local\\Temp\\ipykernel_23212\\3388647961.py:1: DtypeWarning: Columns (23,36) have mixed types. Specify dtype option on import or set low_memory=False.\n"
     ]
    }
   ],
   "source": [
    "df_fifa = pd.read_csv(\"CompleteDataset.csv\")"
   ]
  },
  {
   "cell_type": "markdown",
   "metadata": {},
   "source": [
    "###### Display the dataframe"
   ]
  },
  {
   "cell_type": "code",
   "execution_count": 260,
   "metadata": {},
   "outputs": [
    {
     "data": {
      "text/html": [
       "<div>\n",
       "<style scoped>\n",
       "    .dataframe tbody tr th:only-of-type {\n",
       "        vertical-align: middle;\n",
       "    }\n",
       "\n",
       "    .dataframe tbody tr th {\n",
       "        vertical-align: top;\n",
       "    }\n",
       "\n",
       "    .dataframe thead th {\n",
       "        text-align: right;\n",
       "    }\n",
       "</style>\n",
       "<table border=\"1\" class=\"dataframe\">\n",
       "  <thead>\n",
       "    <tr style=\"text-align: right;\">\n",
       "      <th></th>\n",
       "      <th>Unnamed: 0</th>\n",
       "      <th>Name</th>\n",
       "      <th>Age</th>\n",
       "      <th>Photo</th>\n",
       "      <th>Nationality</th>\n",
       "      <th>Flag</th>\n",
       "      <th>Overall</th>\n",
       "      <th>Potential</th>\n",
       "      <th>Club</th>\n",
       "      <th>Club Logo</th>\n",
       "      <th>...</th>\n",
       "      <th>Reactions</th>\n",
       "      <th>Short passing</th>\n",
       "      <th>Shot power</th>\n",
       "      <th>Sliding tackle</th>\n",
       "      <th>Sprint speed</th>\n",
       "      <th>Stamina</th>\n",
       "      <th>Standing tackle</th>\n",
       "      <th>Strength</th>\n",
       "      <th>Vision</th>\n",
       "      <th>Volleys</th>\n",
       "    </tr>\n",
       "  </thead>\n",
       "  <tbody>\n",
       "    <tr>\n",
       "      <th>0</th>\n",
       "      <td>0</td>\n",
       "      <td>Cristiano Ronaldo</td>\n",
       "      <td>32</td>\n",
       "      <td>https://cdn.sofifa.org/48/18/players/20801.png</td>\n",
       "      <td>Portugal</td>\n",
       "      <td>https://cdn.sofifa.org/flags/38.png</td>\n",
       "      <td>94</td>\n",
       "      <td>94</td>\n",
       "      <td>Real Madrid CF</td>\n",
       "      <td>https://cdn.sofifa.org/24/18/teams/243.png</td>\n",
       "      <td>...</td>\n",
       "      <td>96</td>\n",
       "      <td>83</td>\n",
       "      <td>94</td>\n",
       "      <td>23</td>\n",
       "      <td>91</td>\n",
       "      <td>92</td>\n",
       "      <td>31</td>\n",
       "      <td>80</td>\n",
       "      <td>85</td>\n",
       "      <td>88</td>\n",
       "    </tr>\n",
       "    <tr>\n",
       "      <th>1</th>\n",
       "      <td>1</td>\n",
       "      <td>L. Messi</td>\n",
       "      <td>30</td>\n",
       "      <td>https://cdn.sofifa.org/48/18/players/158023.png</td>\n",
       "      <td>Argentina</td>\n",
       "      <td>https://cdn.sofifa.org/flags/52.png</td>\n",
       "      <td>93</td>\n",
       "      <td>93</td>\n",
       "      <td>FC Barcelona</td>\n",
       "      <td>https://cdn.sofifa.org/24/18/teams/241.png</td>\n",
       "      <td>...</td>\n",
       "      <td>95</td>\n",
       "      <td>88</td>\n",
       "      <td>85</td>\n",
       "      <td>26</td>\n",
       "      <td>87</td>\n",
       "      <td>73</td>\n",
       "      <td>28</td>\n",
       "      <td>59</td>\n",
       "      <td>90</td>\n",
       "      <td>85</td>\n",
       "    </tr>\n",
       "    <tr>\n",
       "      <th>2</th>\n",
       "      <td>2</td>\n",
       "      <td>Neymar</td>\n",
       "      <td>25</td>\n",
       "      <td>https://cdn.sofifa.org/48/18/players/190871.png</td>\n",
       "      <td>Brazil</td>\n",
       "      <td>https://cdn.sofifa.org/flags/54.png</td>\n",
       "      <td>92</td>\n",
       "      <td>94</td>\n",
       "      <td>Paris Saint-Germain</td>\n",
       "      <td>https://cdn.sofifa.org/24/18/teams/73.png</td>\n",
       "      <td>...</td>\n",
       "      <td>88</td>\n",
       "      <td>81</td>\n",
       "      <td>80</td>\n",
       "      <td>33</td>\n",
       "      <td>90</td>\n",
       "      <td>78</td>\n",
       "      <td>24</td>\n",
       "      <td>53</td>\n",
       "      <td>80</td>\n",
       "      <td>83</td>\n",
       "    </tr>\n",
       "    <tr>\n",
       "      <th>3</th>\n",
       "      <td>3</td>\n",
       "      <td>L. Suárez</td>\n",
       "      <td>30</td>\n",
       "      <td>https://cdn.sofifa.org/48/18/players/176580.png</td>\n",
       "      <td>Uruguay</td>\n",
       "      <td>https://cdn.sofifa.org/flags/60.png</td>\n",
       "      <td>92</td>\n",
       "      <td>92</td>\n",
       "      <td>FC Barcelona</td>\n",
       "      <td>https://cdn.sofifa.org/24/18/teams/241.png</td>\n",
       "      <td>...</td>\n",
       "      <td>93</td>\n",
       "      <td>83</td>\n",
       "      <td>87</td>\n",
       "      <td>38</td>\n",
       "      <td>77</td>\n",
       "      <td>89</td>\n",
       "      <td>45</td>\n",
       "      <td>80</td>\n",
       "      <td>84</td>\n",
       "      <td>88</td>\n",
       "    </tr>\n",
       "    <tr>\n",
       "      <th>4</th>\n",
       "      <td>4</td>\n",
       "      <td>M. Neuer</td>\n",
       "      <td>31</td>\n",
       "      <td>https://cdn.sofifa.org/48/18/players/167495.png</td>\n",
       "      <td>Germany</td>\n",
       "      <td>https://cdn.sofifa.org/flags/21.png</td>\n",
       "      <td>92</td>\n",
       "      <td>92</td>\n",
       "      <td>FC Bayern Munich</td>\n",
       "      <td>https://cdn.sofifa.org/24/18/teams/21.png</td>\n",
       "      <td>...</td>\n",
       "      <td>85</td>\n",
       "      <td>55</td>\n",
       "      <td>25</td>\n",
       "      <td>11</td>\n",
       "      <td>61</td>\n",
       "      <td>44</td>\n",
       "      <td>10</td>\n",
       "      <td>83</td>\n",
       "      <td>70</td>\n",
       "      <td>11</td>\n",
       "    </tr>\n",
       "  </tbody>\n",
       "</table>\n",
       "<p>5 rows × 48 columns</p>\n",
       "</div>"
      ],
      "text/plain": [
       "   Unnamed: 0               Name  Age  \\\n",
       "0           0  Cristiano Ronaldo   32   \n",
       "1           1           L. Messi   30   \n",
       "2           2             Neymar   25   \n",
       "3           3          L. Suárez   30   \n",
       "4           4           M. Neuer   31   \n",
       "\n",
       "                                             Photo Nationality  \\\n",
       "0   https://cdn.sofifa.org/48/18/players/20801.png    Portugal   \n",
       "1  https://cdn.sofifa.org/48/18/players/158023.png   Argentina   \n",
       "2  https://cdn.sofifa.org/48/18/players/190871.png      Brazil   \n",
       "3  https://cdn.sofifa.org/48/18/players/176580.png     Uruguay   \n",
       "4  https://cdn.sofifa.org/48/18/players/167495.png     Germany   \n",
       "\n",
       "                                  Flag  Overall  Potential  \\\n",
       "0  https://cdn.sofifa.org/flags/38.png       94         94   \n",
       "1  https://cdn.sofifa.org/flags/52.png       93         93   \n",
       "2  https://cdn.sofifa.org/flags/54.png       92         94   \n",
       "3  https://cdn.sofifa.org/flags/60.png       92         92   \n",
       "4  https://cdn.sofifa.org/flags/21.png       92         92   \n",
       "\n",
       "                  Club                                   Club Logo  ...  \\\n",
       "0       Real Madrid CF  https://cdn.sofifa.org/24/18/teams/243.png  ...   \n",
       "1         FC Barcelona  https://cdn.sofifa.org/24/18/teams/241.png  ...   \n",
       "2  Paris Saint-Germain   https://cdn.sofifa.org/24/18/teams/73.png  ...   \n",
       "3         FC Barcelona  https://cdn.sofifa.org/24/18/teams/241.png  ...   \n",
       "4     FC Bayern Munich   https://cdn.sofifa.org/24/18/teams/21.png  ...   \n",
       "\n",
       "  Reactions Short passing  Shot power Sliding tackle Sprint speed Stamina  \\\n",
       "0        96            83          94             23           91      92   \n",
       "1        95            88          85             26           87      73   \n",
       "2        88            81          80             33           90      78   \n",
       "3        93            83          87             38           77      89   \n",
       "4        85            55          25             11           61      44   \n",
       "\n",
       "  Standing tackle Strength Vision Volleys  \n",
       "0              31       80     85      88  \n",
       "1              28       59     90      85  \n",
       "2              24       53     80      83  \n",
       "3              45       80     84      88  \n",
       "4              10       83     70      11  \n",
       "\n",
       "[5 rows x 48 columns]"
      ]
     },
     "metadata": {},
     "output_type": "display_data"
    }
   ],
   "source": [
    "display(df_fifa.head())"
   ]
  },
  {
   "cell_type": "code",
   "execution_count": 269,
   "metadata": {
    "scrolled": true
   },
   "outputs": [
    {
     "name": "stdout",
     "output_type": "stream",
     "text": [
      "<class 'pandas.core.frame.DataFrame'>\n",
      "RangeIndex: 17981 entries, 0 to 17980\n",
      "Data columns (total 48 columns):\n",
      " #   Column              Non-Null Count  Dtype \n",
      "---  ------              --------------  ----- \n",
      " 0   Unnamed: 0          17981 non-null  int64 \n",
      " 1   Name                17981 non-null  object\n",
      " 2   Age                 17981 non-null  int64 \n",
      " 3   Photo               17981 non-null  object\n",
      " 4   Nationality         17981 non-null  object\n",
      " 5   Flag                17981 non-null  object\n",
      " 6   Overall             17981 non-null  int64 \n",
      " 7   Potential           17981 non-null  int64 \n",
      " 8   Club                17733 non-null  object\n",
      " 9   Club Logo           17981 non-null  object\n",
      " 10  Value               17981 non-null  object\n",
      " 11  Wage                17981 non-null  object\n",
      " 12  Special             17981 non-null  int64 \n",
      " 13  Acceleration        17981 non-null  object\n",
      " 14  Aggression          17981 non-null  object\n",
      " 15  Agility             17981 non-null  object\n",
      " 16  Balance             17981 non-null  object\n",
      " 17  Ball control        17981 non-null  object\n",
      " 18  Composure           17981 non-null  object\n",
      " 19  Crossing            17981 non-null  object\n",
      " 20  Curve               17981 non-null  object\n",
      " 21  Dribbling           17981 non-null  object\n",
      " 22  Finishing           17981 non-null  object\n",
      " 23  Free kick accuracy  17981 non-null  object\n",
      " 24  GK diving           17981 non-null  object\n",
      " 25  GK handling         17981 non-null  object\n",
      " 26  GK kicking          17981 non-null  object\n",
      " 27  GK positioning      17981 non-null  object\n",
      " 28  GK reflexes         17981 non-null  object\n",
      " 29  Heading accuracy    17981 non-null  object\n",
      " 30  ID                  17981 non-null  int64 \n",
      " 31  Interceptions       17981 non-null  object\n",
      " 32  Jumping             17981 non-null  object\n",
      " 33  Long passing        17981 non-null  object\n",
      " 34  Long shots          17981 non-null  object\n",
      " 35  Marking             17981 non-null  object\n",
      " 36  Penalties           17981 non-null  object\n",
      " 37  Positioning         17981 non-null  object\n",
      " 38  Reactions           17981 non-null  object\n",
      " 39  Short passing       17981 non-null  object\n",
      " 40  Shot power          17981 non-null  object\n",
      " 41  Sliding tackle      17981 non-null  object\n",
      " 42  Sprint speed        17981 non-null  object\n",
      " 43  Stamina             17981 non-null  object\n",
      " 44  Standing tackle     17981 non-null  object\n",
      " 45  Strength            17981 non-null  object\n",
      " 46  Vision              17981 non-null  object\n",
      " 47  Volleys             17981 non-null  object\n",
      "dtypes: int64(6), object(42)\n",
      "memory usage: 6.6+ MB\n"
     ]
    },
    {
     "data": {
      "text/plain": [
       "None"
      ]
     },
     "metadata": {},
     "output_type": "display_data"
    }
   ],
   "source": [
    "display(df_fifa.info())"
   ]
  },
  {
   "cell_type": "markdown",
   "metadata": {},
   "source": [
    " ##### **Part 2** Data Cleaning\n",
    "+ ###### Remove missing value\n",
    "+ ###### Hadle dollar sign and uint in Value and Wage\n",
    "+ ###### \\+ and - sign need to be calculated in some columns\n",
    "+ ###### Remove the used column"
   ]
  },
  {
   "cell_type": "markdown",
   "metadata": {},
   "source": [
    "###### Remove missing value"
   ]
  },
  {
   "cell_type": "code",
   "execution_count": 270,
   "metadata": {
    "scrolled": true
   },
   "outputs": [
    {
     "name": "stdout",
     "output_type": "stream",
     "text": [
      "Unnamed: 0              0\n",
      "Name                    0\n",
      "Age                     0\n",
      "Photo                   0\n",
      "Nationality             0\n",
      "Flag                    0\n",
      "Overall                 0\n",
      "Potential               0\n",
      "Club                  248\n",
      "Club Logo               0\n",
      "Value                   0\n",
      "Wage                    0\n",
      "Special                 0\n",
      "Acceleration            0\n",
      "Aggression              0\n",
      "Agility                 0\n",
      "Balance                 0\n",
      "Ball control            0\n",
      "Composure               0\n",
      "Crossing                0\n",
      "Curve                   0\n",
      "Dribbling               0\n",
      "Finishing               0\n",
      "Free kick accuracy      0\n",
      "GK diving               0\n",
      "GK handling             0\n",
      "GK kicking              0\n",
      "GK positioning          0\n",
      "GK reflexes             0\n",
      "Heading accuracy        0\n",
      "ID                      0\n",
      "Interceptions           0\n",
      "Jumping                 0\n",
      "Long passing            0\n",
      "Long shots              0\n",
      "Marking                 0\n",
      "Penalties               0\n",
      "Positioning             0\n",
      "Reactions               0\n",
      "Short passing           0\n",
      "Shot power              0\n",
      "Sliding tackle          0\n",
      "Sprint speed            0\n",
      "Stamina                 0\n",
      "Standing tackle         0\n",
      "Strength                0\n",
      "Vision                  0\n",
      "Volleys                 0\n",
      "dtype: int64\n"
     ]
    }
   ],
   "source": [
    "check_nan = df_fifa.isnull().values.any()\n",
    "\n",
    "if check_nan:\n",
    "    print(df_fifa.isnull().sum())\n",
    "    \n"
   ]
  },
  {
   "cell_type": "markdown",
   "metadata": {},
   "source": [
    "+ ###### There are 248 missing value in Club."
   ]
  },
  {
   "cell_type": "code",
   "execution_count": 271,
   "metadata": {},
   "outputs": [],
   "source": [
    "df_fifa_1 = df_fifa.dropna()"
   ]
  },
  {
   "cell_type": "markdown",
   "metadata": {},
   "source": [
    "+ ###### Before cleansing:  17981 \n",
    "+ ###### Before cleansing:  17733"
   ]
  },
  {
   "cell_type": "code",
   "execution_count": 272,
   "metadata": {},
   "outputs": [
    {
     "data": {
      "text/plain": [
       "False"
      ]
     },
     "execution_count": 272,
     "metadata": {},
     "output_type": "execute_result"
    }
   ],
   "source": [
    "df_fifa_1.isnull().values.any()"
   ]
  },
  {
   "cell_type": "markdown",
   "metadata": {},
   "source": [
    "###### Handle dollar sign and uint in Value \n"
   ]
  },
  {
   "cell_type": "code",
   "execution_count": 274,
   "metadata": {},
   "outputs": [
    {
     "name": "stdout",
     "output_type": "stream",
     "text": [
      "['€95.5M' '€105M' '€123M' '€97M' '€61M' '€92M' '€64.5M' '€90.5M' '€79M'\n",
      " '€77M' '€52M' '€83M' '€59M' '€67.5M' '€57M' '€69.5M' '€66.5M' '€38M'\n",
      " '€4.5M' '€75M']\n",
      "['€565K' '€280K' '€510K' '€230K' '€355K' '€215K' '€295K' '€340K' '€275K'\n",
      " '€310K' '€285K' '€190K' '€265K' '€370K' '€325K' '€225K' '€110K' '€82K'\n",
      " '€150K' '€165K']\n"
     ]
    }
   ],
   "source": [
    "for i in df_fifa_1.columns[10:12]:\n",
    "    print(df_fifa_1.loc[:,i].unique()[:20])"
   ]
  },
  {
   "cell_type": "code",
   "execution_count": 275,
   "metadata": {},
   "outputs": [
    {
     "name": "stderr",
     "output_type": "stream",
     "text": [
      "C:\\Users\\2121w\\AppData\\Local\\Temp\\ipykernel_23212\\3136911875.py:19: SettingWithCopyWarning: \n",
      "A value is trying to be set on a copy of a slice from a DataFrame.\n",
      "Try using .loc[row_indexer,col_indexer] = value instead\n",
      "\n",
      "See the caveats in the documentation: https://pandas.pydata.org/pandas-docs/stable/user_guide/indexing.html#returning-a-view-versus-a-copy\n"
     ]
    }
   ],
   "source": [
    "Val = df_fifa_1[\"Value\"]\n",
    "\n",
    "val_lst = []\n",
    "for i in Val:\n",
    "    if re.search(\"^€*\", i):  \n",
    "        val_lst.append(i[1:])\n",
    "    else:\n",
    "        val_lst.append(i)\n",
    "        \n",
    "val_lst_1 = []\n",
    "for i in val_lst:\n",
    "    if re.search(\"K$\", i):  \n",
    "        val_lst_1.append(int(float(i[:-1])*1000))\n",
    "    elif re.search(\"M$\", i):\n",
    "        val_lst_1.append(int(float(i[:-1])*1000000))\n",
    "    else:\n",
    "        val_lst_1.append(int(i))\n",
    "\n",
    "df_fifa_1[\"Value\"] = val_lst_1\n",
    "\n"
   ]
  },
  {
   "cell_type": "code",
   "execution_count": 276,
   "metadata": {},
   "outputs": [
    {
     "data": {
      "text/plain": [
       "0         95500000\n",
       "1        105000000\n",
       "2        123000000\n",
       "3         97000000\n",
       "4         61000000\n",
       "           ...    \n",
       "17976        50000\n",
       "17977            0\n",
       "17978        60000\n",
       "17979        60000\n",
       "17980        50000\n",
       "Name: Value, Length: 17733, dtype: int64"
      ]
     },
     "execution_count": 276,
     "metadata": {},
     "output_type": "execute_result"
    }
   ],
   "source": [
    "df_fifa_1[\"Value\"] \n"
   ]
  },
  {
   "cell_type": "markdown",
   "metadata": {},
   "source": [
    "###### Handle dollar sign and uint in Wage\n"
   ]
  },
  {
   "cell_type": "code",
   "execution_count": 277,
   "metadata": {},
   "outputs": [
    {
     "name": "stderr",
     "output_type": "stream",
     "text": [
      "C:\\Users\\2121w\\AppData\\Local\\Temp\\ipykernel_23212\\2264045977.py:19: SettingWithCopyWarning: \n",
      "A value is trying to be set on a copy of a slice from a DataFrame.\n",
      "Try using .loc[row_indexer,col_indexer] = value instead\n",
      "\n",
      "See the caveats in the documentation: https://pandas.pydata.org/pandas-docs/stable/user_guide/indexing.html#returning-a-view-versus-a-copy\n"
     ]
    }
   ],
   "source": [
    "Wage = df_fifa_1[\"Wage\"]\n",
    "\n",
    "wage_lst = []\n",
    "for i in Wage:\n",
    "    if re.search(\"^€*\", i):  \n",
    "        wage_lst.append(i[1:])\n",
    "    else:\n",
    "        wage_lst.append(i)\n",
    "        \n",
    "wage_lst_1 = []\n",
    "for i in wage_lst:\n",
    "    if re.search(\"K$\", i):  \n",
    "        wage_lst_1.append(int(float(i[:-1])*1000))\n",
    "    elif re.search(\"M$\", i):\n",
    "        wage_lst_1.append(int(float(i[:-1])*1000000))\n",
    "    else:\n",
    "        wage_lst_1.append(int(i))\n",
    "\n",
    "df_fifa_1[\"Wage\"] = wage_lst_1\n"
   ]
  },
  {
   "cell_type": "code",
   "execution_count": 278,
   "metadata": {},
   "outputs": [
    {
     "data": {
      "text/plain": [
       "0        565000\n",
       "1        565000\n",
       "2        280000\n",
       "3        510000\n",
       "4        230000\n",
       "          ...  \n",
       "17976      1000\n",
       "17977      1000\n",
       "17978      1000\n",
       "17979      1000\n",
       "17980      1000\n",
       "Name: Wage, Length: 17733, dtype: int64"
      ]
     },
     "execution_count": 278,
     "metadata": {},
     "output_type": "execute_result"
    }
   ],
   "source": [
    "df_fifa_1[\"Wage\"] "
   ]
  },
  {
   "cell_type": "markdown",
   "metadata": {},
   "source": [
    "###### Handle Columns Acceleration to Volleys\n",
    "+ ###### \\+ and - sign need to be calculated in these column"
   ]
  },
  {
   "cell_type": "code",
   "execution_count": 282,
   "metadata": {},
   "outputs": [
    {
     "name": "stdout",
     "output_type": "stream",
     "text": [
      "['89' '92' '94' '88' '58' '79' '57' '93' '60' '78' '75' '76' '46' '90'\n",
      " '68' '49' '43' '87' '77' '95' '62' '72' '65' '70' '63' '82' '69' '67'\n",
      " '54' '55' '74' '86' '84' '48' '80' '71' '85' '40' '51' '38' '53' '73'\n",
      " '45' '61' '64' '44' '42' '81' '91' '59' '52' '66' '39' '34' '50' '83'\n",
      " '47' '96' '31' '30' '70+9' '56' '26' '80+1' '35' '36' '32' '49-1' '41'\n",
      " '67+2' '37' '28' '33' '20' '79-2' '65-2' '29' '91-2' '74-3' '75+1' '41-6'\n",
      " '74+1' '70+3' '17' '75+5' '74+2' '71+2' '68+1' '71+4' '89-2' '25' '27'\n",
      " '24' '58-10' '78+1' '86+1' '66-1' '22' '66+1' '15']\n",
      "['63' '48' '56' '78' '29' '80' '38' '54' '60' '50' '84' '68' '23' '62'\n",
      " '65' '92' '34' '69' '57' '43' '82' '86' '66' '31' '77' '47' '90' '89'\n",
      " '75' '44' '93' '67' '51' '25' '72' '58' '74' '85' '55' '49' '81' '88'\n",
      " '91' '59' '83' '45' '52' '94' '17' '61' '87' '70' '32' '28' '73' '41'\n",
      " '71' '79' '35' '36' '20' '26' '40' '58-10' '30' '39' '33' '64' '27' '76'\n",
      " '46' '18' '42' '37' '11' '22' '53' '15' '65+10' '57+5' '24' '19' '66+7'\n",
      " '96' '77+5' '68+1' '21' '68+3' '87+1' '82+1' '76+3' '12' '72+3' '80+3'\n",
      " '65-2' '72+5' '42+7' '16' '78-3' '74+7']\n"
     ]
    }
   ],
   "source": [
    "for i in df_fifa_1.columns[13:15]:\n",
    "    print(df_fifa_1.loc[:,i].unique()[:100])"
   ]
  },
  {
   "cell_type": "markdown",
   "metadata": {},
   "source": [
    "###### Handle \\+ and - sign function"
   ]
  },
  {
   "cell_type": "code",
   "execution_count": 257,
   "metadata": {},
   "outputs": [],
   "source": [
    "def arith(col):\n",
    "    arith_lst = []\n",
    "    for i in df_fifa_1.loc[:,col]:\n",
    "        i = str(i)\n",
    "        if re.search(\"\\+\", i):\n",
    "            index = re.search(\"\\+\", i).start()\n",
    "            arith_lst.append(int(int(i[0:index]) + int(i[index+1:])))\n",
    "        else: \n",
    "            arith_lst.append(i)\n",
    "    \n",
    "    arith_lst_1 = []\n",
    "    for i in arith_lst:\n",
    "        i = str(i)\n",
    "        if re.search(\"\\-\", i):\n",
    "            index = re.search(\"\\-\", i).start()\n",
    "            arith_lst_1.append(int(int(i[0:index]) + int(i[index+1:])))\n",
    "        else: \n",
    "            arith_lst_1.append(int(i))\n",
    "    return arith_lst_1\n",
    "        "
   ]
  },
  {
   "cell_type": "markdown",
   "metadata": {},
   "source": [
    "###### Apply calculation to these columns"
   ]
  },
  {
   "cell_type": "code",
   "execution_count": 284,
   "metadata": {},
   "outputs": [
    {
     "name": "stderr",
     "output_type": "stream",
     "text": [
      "C:\\Users\\2121w\\AppData\\Local\\Temp\\ipykernel_23212\\3911459210.py:5: SettingWithCopyWarning: \n",
      "A value is trying to be set on a copy of a slice from a DataFrame.\n",
      "Try using .loc[row_indexer,col_indexer] = value instead\n",
      "\n",
      "See the caveats in the documentation: https://pandas.pydata.org/pandas-docs/stable/user_guide/indexing.html#returning-a-view-versus-a-copy\n"
     ]
    }
   ],
   "source": [
    "arith_dict = {}\n",
    "cols = df_fifa_1.columns[13:]\n",
    "for k in cols:\n",
    "    arith_lst_1 = arith(k)\n",
    "    df_fifa_1.loc[:,k] = arith_lst_1"
   ]
  },
  {
   "cell_type": "code",
   "execution_count": 288,
   "metadata": {},
   "outputs": [
    {
     "name": "stdout",
     "output_type": "stream",
     "text": [
      "[89 92 94 88 58 79 57 93 60 78 75 76 46 90 68 49 43 87 77 95 62 72 65 70\n",
      " 63 82 69 67 54 55 74 86 84 48 80 71 85 40 51 38 53 73 45 61 64 44 42 81\n",
      " 91 59 52 66 39 34 50 83 47 96 31 30 56 26 35 36 32 41 37 28 33 20 29 17\n",
      " 25 27 24 22 15 21 23 18 19 16 13 14 12 11]\n",
      "[ 63  48  56  78  29  80  38  54  60  50  84  68  23  62  65  92  34  69\n",
      "  57  43  82  86  66  31  77  47  90  89  75  44  93  67  51  25  72  58\n",
      "  74  85  55  49  81  88  91  59  83  45  52  94  17  61  87  70  32  28\n",
      "  73  41  71  79  35  36  20  26  40  30  39  33  64  27  76  46  18  42\n",
      "  37  11  22  53  15  24  19  96  21  12  16  13  14 106  95]\n"
     ]
    }
   ],
   "source": [
    "for i in df_fifa_1.columns[13:15]:\n",
    "    print(df_fifa_1.loc[:,i].unique()[:100])"
   ]
  },
  {
   "cell_type": "markdown",
   "metadata": {},
   "source": [
    "###### Drop used columns in the dataset"
   ]
  },
  {
   "cell_type": "code",
   "execution_count": 306,
   "metadata": {},
   "outputs": [
    {
     "data": {
      "text/html": [
       "<div>\n",
       "<style scoped>\n",
       "    .dataframe tbody tr th:only-of-type {\n",
       "        vertical-align: middle;\n",
       "    }\n",
       "\n",
       "    .dataframe tbody tr th {\n",
       "        vertical-align: top;\n",
       "    }\n",
       "\n",
       "    .dataframe thead th {\n",
       "        text-align: right;\n",
       "    }\n",
       "</style>\n",
       "<table border=\"1\" class=\"dataframe\">\n",
       "  <thead>\n",
       "    <tr style=\"text-align: right;\">\n",
       "      <th></th>\n",
       "      <th>Name</th>\n",
       "      <th>Age</th>\n",
       "      <th>Nationality</th>\n",
       "      <th>Overall</th>\n",
       "      <th>Potential</th>\n",
       "      <th>Club</th>\n",
       "      <th>Value</th>\n",
       "      <th>Wage</th>\n",
       "      <th>Special</th>\n",
       "      <th>Acceleration</th>\n",
       "      <th>...</th>\n",
       "      <th>Reactions</th>\n",
       "      <th>Short passing</th>\n",
       "      <th>Shot power</th>\n",
       "      <th>Sliding tackle</th>\n",
       "      <th>Sprint speed</th>\n",
       "      <th>Stamina</th>\n",
       "      <th>Standing tackle</th>\n",
       "      <th>Strength</th>\n",
       "      <th>Vision</th>\n",
       "      <th>Volleys</th>\n",
       "    </tr>\n",
       "  </thead>\n",
       "  <tbody>\n",
       "    <tr>\n",
       "      <th>0</th>\n",
       "      <td>Cristiano Ronaldo</td>\n",
       "      <td>32</td>\n",
       "      <td>Portugal</td>\n",
       "      <td>94</td>\n",
       "      <td>94</td>\n",
       "      <td>Real Madrid CF</td>\n",
       "      <td>95500000</td>\n",
       "      <td>565000</td>\n",
       "      <td>2228</td>\n",
       "      <td>89</td>\n",
       "      <td>...</td>\n",
       "      <td>96</td>\n",
       "      <td>83</td>\n",
       "      <td>94</td>\n",
       "      <td>23</td>\n",
       "      <td>91</td>\n",
       "      <td>92</td>\n",
       "      <td>31</td>\n",
       "      <td>80</td>\n",
       "      <td>85</td>\n",
       "      <td>88</td>\n",
       "    </tr>\n",
       "    <tr>\n",
       "      <th>1</th>\n",
       "      <td>L. Messi</td>\n",
       "      <td>30</td>\n",
       "      <td>Argentina</td>\n",
       "      <td>93</td>\n",
       "      <td>93</td>\n",
       "      <td>FC Barcelona</td>\n",
       "      <td>105000000</td>\n",
       "      <td>565000</td>\n",
       "      <td>2154</td>\n",
       "      <td>92</td>\n",
       "      <td>...</td>\n",
       "      <td>95</td>\n",
       "      <td>88</td>\n",
       "      <td>85</td>\n",
       "      <td>26</td>\n",
       "      <td>87</td>\n",
       "      <td>73</td>\n",
       "      <td>28</td>\n",
       "      <td>59</td>\n",
       "      <td>90</td>\n",
       "      <td>85</td>\n",
       "    </tr>\n",
       "    <tr>\n",
       "      <th>2</th>\n",
       "      <td>Neymar</td>\n",
       "      <td>25</td>\n",
       "      <td>Brazil</td>\n",
       "      <td>92</td>\n",
       "      <td>94</td>\n",
       "      <td>Paris Saint-Germain</td>\n",
       "      <td>123000000</td>\n",
       "      <td>280000</td>\n",
       "      <td>2100</td>\n",
       "      <td>94</td>\n",
       "      <td>...</td>\n",
       "      <td>88</td>\n",
       "      <td>81</td>\n",
       "      <td>80</td>\n",
       "      <td>33</td>\n",
       "      <td>90</td>\n",
       "      <td>78</td>\n",
       "      <td>24</td>\n",
       "      <td>53</td>\n",
       "      <td>80</td>\n",
       "      <td>83</td>\n",
       "    </tr>\n",
       "    <tr>\n",
       "      <th>3</th>\n",
       "      <td>L. Suárez</td>\n",
       "      <td>30</td>\n",
       "      <td>Uruguay</td>\n",
       "      <td>92</td>\n",
       "      <td>92</td>\n",
       "      <td>FC Barcelona</td>\n",
       "      <td>97000000</td>\n",
       "      <td>510000</td>\n",
       "      <td>2291</td>\n",
       "      <td>88</td>\n",
       "      <td>...</td>\n",
       "      <td>93</td>\n",
       "      <td>83</td>\n",
       "      <td>87</td>\n",
       "      <td>38</td>\n",
       "      <td>77</td>\n",
       "      <td>89</td>\n",
       "      <td>45</td>\n",
       "      <td>80</td>\n",
       "      <td>84</td>\n",
       "      <td>88</td>\n",
       "    </tr>\n",
       "    <tr>\n",
       "      <th>4</th>\n",
       "      <td>M. Neuer</td>\n",
       "      <td>31</td>\n",
       "      <td>Germany</td>\n",
       "      <td>92</td>\n",
       "      <td>92</td>\n",
       "      <td>FC Bayern Munich</td>\n",
       "      <td>61000000</td>\n",
       "      <td>230000</td>\n",
       "      <td>1493</td>\n",
       "      <td>58</td>\n",
       "      <td>...</td>\n",
       "      <td>85</td>\n",
       "      <td>55</td>\n",
       "      <td>25</td>\n",
       "      <td>11</td>\n",
       "      <td>61</td>\n",
       "      <td>44</td>\n",
       "      <td>10</td>\n",
       "      <td>83</td>\n",
       "      <td>70</td>\n",
       "      <td>11</td>\n",
       "    </tr>\n",
       "    <tr>\n",
       "      <th>...</th>\n",
       "      <td>...</td>\n",
       "      <td>...</td>\n",
       "      <td>...</td>\n",
       "      <td>...</td>\n",
       "      <td>...</td>\n",
       "      <td>...</td>\n",
       "      <td>...</td>\n",
       "      <td>...</td>\n",
       "      <td>...</td>\n",
       "      <td>...</td>\n",
       "      <td>...</td>\n",
       "      <td>...</td>\n",
       "      <td>...</td>\n",
       "      <td>...</td>\n",
       "      <td>...</td>\n",
       "      <td>...</td>\n",
       "      <td>...</td>\n",
       "      <td>...</td>\n",
       "      <td>...</td>\n",
       "      <td>...</td>\n",
       "      <td>...</td>\n",
       "    </tr>\n",
       "    <tr>\n",
       "      <th>17976</th>\n",
       "      <td>A. Kelsey</td>\n",
       "      <td>17</td>\n",
       "      <td>England</td>\n",
       "      <td>46</td>\n",
       "      <td>63</td>\n",
       "      <td>Scunthorpe United</td>\n",
       "      <td>50000</td>\n",
       "      <td>1000</td>\n",
       "      <td>755</td>\n",
       "      <td>24</td>\n",
       "      <td>...</td>\n",
       "      <td>40</td>\n",
       "      <td>19</td>\n",
       "      <td>19</td>\n",
       "      <td>10</td>\n",
       "      <td>32</td>\n",
       "      <td>28</td>\n",
       "      <td>11</td>\n",
       "      <td>50</td>\n",
       "      <td>26</td>\n",
       "      <td>6</td>\n",
       "    </tr>\n",
       "    <tr>\n",
       "      <th>17977</th>\n",
       "      <td>B. Richardson</td>\n",
       "      <td>47</td>\n",
       "      <td>England</td>\n",
       "      <td>46</td>\n",
       "      <td>46</td>\n",
       "      <td>Wycombe Wanderers</td>\n",
       "      <td>0</td>\n",
       "      <td>1000</td>\n",
       "      <td>832</td>\n",
       "      <td>25</td>\n",
       "      <td>...</td>\n",
       "      <td>51</td>\n",
       "      <td>12</td>\n",
       "      <td>13</td>\n",
       "      <td>13</td>\n",
       "      <td>25</td>\n",
       "      <td>32</td>\n",
       "      <td>12</td>\n",
       "      <td>47</td>\n",
       "      <td>17</td>\n",
       "      <td>12</td>\n",
       "    </tr>\n",
       "    <tr>\n",
       "      <th>17978</th>\n",
       "      <td>J. Young</td>\n",
       "      <td>17</td>\n",
       "      <td>Scotland</td>\n",
       "      <td>46</td>\n",
       "      <td>61</td>\n",
       "      <td>Swindon Town</td>\n",
       "      <td>60000</td>\n",
       "      <td>1000</td>\n",
       "      <td>1194</td>\n",
       "      <td>66</td>\n",
       "      <td>...</td>\n",
       "      <td>54</td>\n",
       "      <td>42</td>\n",
       "      <td>42</td>\n",
       "      <td>14</td>\n",
       "      <td>51</td>\n",
       "      <td>33</td>\n",
       "      <td>17</td>\n",
       "      <td>32</td>\n",
       "      <td>37</td>\n",
       "      <td>33</td>\n",
       "    </tr>\n",
       "    <tr>\n",
       "      <th>17979</th>\n",
       "      <td>J. Lundstram</td>\n",
       "      <td>18</td>\n",
       "      <td>England</td>\n",
       "      <td>46</td>\n",
       "      <td>64</td>\n",
       "      <td>Crewe Alexandra</td>\n",
       "      <td>60000</td>\n",
       "      <td>1000</td>\n",
       "      <td>1302</td>\n",
       "      <td>57</td>\n",
       "      <td>...</td>\n",
       "      <td>49</td>\n",
       "      <td>49</td>\n",
       "      <td>43</td>\n",
       "      <td>47</td>\n",
       "      <td>58</td>\n",
       "      <td>49</td>\n",
       "      <td>48</td>\n",
       "      <td>46</td>\n",
       "      <td>51</td>\n",
       "      <td>25</td>\n",
       "    </tr>\n",
       "    <tr>\n",
       "      <th>17980</th>\n",
       "      <td>L. Sackey</td>\n",
       "      <td>18</td>\n",
       "      <td>Ghana</td>\n",
       "      <td>46</td>\n",
       "      <td>64</td>\n",
       "      <td>Scunthorpe United</td>\n",
       "      <td>50000</td>\n",
       "      <td>1000</td>\n",
       "      <td>1031</td>\n",
       "      <td>48</td>\n",
       "      <td>...</td>\n",
       "      <td>40</td>\n",
       "      <td>31</td>\n",
       "      <td>21</td>\n",
       "      <td>43</td>\n",
       "      <td>49</td>\n",
       "      <td>55</td>\n",
       "      <td>44</td>\n",
       "      <td>67</td>\n",
       "      <td>22</td>\n",
       "      <td>19</td>\n",
       "    </tr>\n",
       "  </tbody>\n",
       "</table>\n",
       "<p>17733 rows × 43 columns</p>\n",
       "</div>"
      ],
      "text/plain": [
       "                    Name  Age Nationality  Overall  Potential  \\\n",
       "0      Cristiano Ronaldo   32    Portugal       94         94   \n",
       "1               L. Messi   30   Argentina       93         93   \n",
       "2                 Neymar   25      Brazil       92         94   \n",
       "3              L. Suárez   30     Uruguay       92         92   \n",
       "4               M. Neuer   31     Germany       92         92   \n",
       "...                  ...  ...         ...      ...        ...   \n",
       "17976          A. Kelsey   17     England       46         63   \n",
       "17977      B. Richardson   47     England       46         46   \n",
       "17978           J. Young   17    Scotland       46         61   \n",
       "17979       J. Lundstram   18     England       46         64   \n",
       "17980          L. Sackey   18       Ghana       46         64   \n",
       "\n",
       "                      Club      Value    Wage  Special  Acceleration  ...  \\\n",
       "0           Real Madrid CF   95500000  565000     2228            89  ...   \n",
       "1             FC Barcelona  105000000  565000     2154            92  ...   \n",
       "2      Paris Saint-Germain  123000000  280000     2100            94  ...   \n",
       "3             FC Barcelona   97000000  510000     2291            88  ...   \n",
       "4         FC Bayern Munich   61000000  230000     1493            58  ...   \n",
       "...                    ...        ...     ...      ...           ...  ...   \n",
       "17976    Scunthorpe United      50000    1000      755            24  ...   \n",
       "17977    Wycombe Wanderers          0    1000      832            25  ...   \n",
       "17978         Swindon Town      60000    1000     1194            66  ...   \n",
       "17979      Crewe Alexandra      60000    1000     1302            57  ...   \n",
       "17980    Scunthorpe United      50000    1000     1031            48  ...   \n",
       "\n",
       "       Reactions  Short passing  Shot power  Sliding tackle  Sprint speed  \\\n",
       "0             96             83          94              23            91   \n",
       "1             95             88          85              26            87   \n",
       "2             88             81          80              33            90   \n",
       "3             93             83          87              38            77   \n",
       "4             85             55          25              11            61   \n",
       "...          ...            ...         ...             ...           ...   \n",
       "17976         40             19          19              10            32   \n",
       "17977         51             12          13              13            25   \n",
       "17978         54             42          42              14            51   \n",
       "17979         49             49          43              47            58   \n",
       "17980         40             31          21              43            49   \n",
       "\n",
       "       Stamina  Standing tackle  Strength  Vision  Volleys  \n",
       "0           92               31        80      85       88  \n",
       "1           73               28        59      90       85  \n",
       "2           78               24        53      80       83  \n",
       "3           89               45        80      84       88  \n",
       "4           44               10        83      70       11  \n",
       "...        ...              ...       ...     ...      ...  \n",
       "17976       28               11        50      26        6  \n",
       "17977       32               12        47      17       12  \n",
       "17978       33               17        32      37       33  \n",
       "17979       49               48        46      51       25  \n",
       "17980       55               44        67      22       19  \n",
       "\n",
       "[17733 rows x 43 columns]"
      ]
     },
     "execution_count": 306,
     "metadata": {},
     "output_type": "execute_result"
    }
   ],
   "source": [
    "df_fifa_1.drop(columns=['Unnamed: 0','Flag', 'Club Logo', 'ID', 'Photo' ])"
   ]
  },
  {
   "cell_type": "markdown",
   "metadata": {},
   "source": [
    " ##### **Part 3**\n",
    "+ ###### Apply five statistical functions on the dataset to answer questions"
   ]
  },
  {
   "cell_type": "markdown",
   "metadata": {},
   "source": [
    "1. Find the average age in every nationality groups"
   ]
  },
  {
   "cell_type": "markdown",
   "metadata": {},
   "source": [
    "###### In the FIFA World Cup in Qatar 2022, the average age of the national teams in Argentina is **27.7** years. The youngest team on average is currently the United States at **24.5** years of age. <br>Does the average age similar to this FIFA 2018 dataset?"
   ]
  },
  {
   "cell_type": "code",
   "execution_count": 307,
   "metadata": {},
   "outputs": [
    {
     "data": {
      "text/html": [
       "<div>\n",
       "<style scoped>\n",
       "    .dataframe tbody tr th:only-of-type {\n",
       "        vertical-align: middle;\n",
       "    }\n",
       "\n",
       "    .dataframe tbody tr th {\n",
       "        vertical-align: top;\n",
       "    }\n",
       "\n",
       "    .dataframe thead th {\n",
       "        text-align: right;\n",
       "    }\n",
       "</style>\n",
       "<table border=\"1\" class=\"dataframe\">\n",
       "  <thead>\n",
       "    <tr style=\"text-align: right;\">\n",
       "      <th></th>\n",
       "      <th>Nationality</th>\n",
       "      <th>Age average</th>\n",
       "    </tr>\n",
       "  </thead>\n",
       "  <tbody>\n",
       "    <tr>\n",
       "      <th>0</th>\n",
       "      <td>Afghanistan</td>\n",
       "      <td>22.000000</td>\n",
       "    </tr>\n",
       "    <tr>\n",
       "      <th>1</th>\n",
       "      <td>Albania</td>\n",
       "      <td>24.685714</td>\n",
       "    </tr>\n",
       "    <tr>\n",
       "      <th>2</th>\n",
       "      <td>Algeria</td>\n",
       "      <td>26.543860</td>\n",
       "    </tr>\n",
       "    <tr>\n",
       "      <th>3</th>\n",
       "      <td>Angola</td>\n",
       "      <td>25.600000</td>\n",
       "    </tr>\n",
       "    <tr>\n",
       "      <th>4</th>\n",
       "      <td>Antigua &amp; Barbuda</td>\n",
       "      <td>22.400000</td>\n",
       "    </tr>\n",
       "    <tr>\n",
       "      <th>5</th>\n",
       "      <td>Argentina</td>\n",
       "      <td>25.932642</td>\n",
       "    </tr>\n",
       "    <tr>\n",
       "      <th>6</th>\n",
       "      <td>Armenia</td>\n",
       "      <td>26.071429</td>\n",
       "    </tr>\n",
       "    <tr>\n",
       "      <th>7</th>\n",
       "      <td>Australia</td>\n",
       "      <td>24.276786</td>\n",
       "    </tr>\n",
       "    <tr>\n",
       "      <th>8</th>\n",
       "      <td>Austria</td>\n",
       "      <td>24.515038</td>\n",
       "    </tr>\n",
       "    <tr>\n",
       "      <th>9</th>\n",
       "      <td>Azerbaijan</td>\n",
       "      <td>25.000000</td>\n",
       "    </tr>\n",
       "  </tbody>\n",
       "</table>\n",
       "</div>"
      ],
      "text/plain": [
       "         Nationality  Age average\n",
       "0        Afghanistan    22.000000\n",
       "1            Albania    24.685714\n",
       "2            Algeria    26.543860\n",
       "3             Angola    25.600000\n",
       "4  Antigua & Barbuda    22.400000\n",
       "5          Argentina    25.932642\n",
       "6            Armenia    26.071429\n",
       "7          Australia    24.276786\n",
       "8            Austria    24.515038\n",
       "9         Azerbaijan    25.000000"
      ]
     },
     "metadata": {},
     "output_type": "display_data"
    }
   ],
   "source": [
    "#1\n",
    "display(df_fifa_1.groupby('Nationality')[\"Age\"].mean().reset_index(name='Age average')[:10])\n"
   ]
  },
  {
   "cell_type": "markdown",
   "metadata": {},
   "source": [
    "+ ###### Argentina               25.932642\n",
    "+ ###### United States           25.272966\n"
   ]
  },
  {
   "cell_type": "code",
   "execution_count": 308,
   "metadata": {},
   "outputs": [
    {
     "data": {
      "text/html": [
       "<div>\n",
       "<style scoped>\n",
       "    .dataframe tbody tr th:only-of-type {\n",
       "        vertical-align: middle;\n",
       "    }\n",
       "\n",
       "    .dataframe tbody tr th {\n",
       "        vertical-align: top;\n",
       "    }\n",
       "\n",
       "    .dataframe thead th {\n",
       "        text-align: right;\n",
       "    }\n",
       "</style>\n",
       "<table border=\"1\" class=\"dataframe\">\n",
       "  <thead>\n",
       "    <tr style=\"text-align: right;\">\n",
       "      <th></th>\n",
       "      <th>Nationality</th>\n",
       "      <th>Age average</th>\n",
       "    </tr>\n",
       "  </thead>\n",
       "  <tbody>\n",
       "    <tr>\n",
       "      <th>0</th>\n",
       "      <td>Oman</td>\n",
       "      <td>35.0</td>\n",
       "    </tr>\n",
       "    <tr>\n",
       "      <th>1</th>\n",
       "      <td>Puerto Rico</td>\n",
       "      <td>34.5</td>\n",
       "    </tr>\n",
       "    <tr>\n",
       "      <th>2</th>\n",
       "      <td>Eritrea</td>\n",
       "      <td>32.0</td>\n",
       "    </tr>\n",
       "  </tbody>\n",
       "</table>\n",
       "</div>"
      ],
      "text/plain": [
       "   Nationality  Age average\n",
       "0         Oman         35.0\n",
       "1  Puerto Rico         34.5\n",
       "2      Eritrea         32.0"
      ]
     },
     "metadata": {},
     "output_type": "display_data"
    },
    {
     "data": {
      "text/html": [
       "<div>\n",
       "<style scoped>\n",
       "    .dataframe tbody tr th:only-of-type {\n",
       "        vertical-align: middle;\n",
       "    }\n",
       "\n",
       "    .dataframe tbody tr th {\n",
       "        vertical-align: top;\n",
       "    }\n",
       "\n",
       "    .dataframe thead th {\n",
       "        text-align: right;\n",
       "    }\n",
       "</style>\n",
       "<table border=\"1\" class=\"dataframe\">\n",
       "  <thead>\n",
       "    <tr style=\"text-align: right;\">\n",
       "      <th></th>\n",
       "      <th>Nationality</th>\n",
       "      <th>Age average</th>\n",
       "    </tr>\n",
       "  </thead>\n",
       "  <tbody>\n",
       "    <tr>\n",
       "      <th>0</th>\n",
       "      <td>Hong Kong</td>\n",
       "      <td>17.0</td>\n",
       "    </tr>\n",
       "    <tr>\n",
       "      <th>1</th>\n",
       "      <td>Brunei Darussalam</td>\n",
       "      <td>19.0</td>\n",
       "    </tr>\n",
       "    <tr>\n",
       "      <th>2</th>\n",
       "      <td>Swaziland</td>\n",
       "      <td>20.0</td>\n",
       "    </tr>\n",
       "  </tbody>\n",
       "</table>\n",
       "</div>"
      ],
      "text/plain": [
       "         Nationality  Age average\n",
       "0          Hong Kong         17.0\n",
       "1  Brunei Darussalam         19.0\n",
       "2          Swaziland         20.0"
      ]
     },
     "metadata": {},
     "output_type": "display_data"
    }
   ],
   "source": [
    "display(df_fifa_1.groupby('Nationality')[\"Age\"].mean().sort_values(ascending=False).reset_index(name='Age average')[:3])\n",
    "display(df_fifa_1.groupby('Nationality')[\"Age\"].mean().sort_values().reset_index(name='Age average')[:3])"
   ]
  },
  {
   "cell_type": "markdown",
   "metadata": {},
   "source": [
    "Summary 1 : \n",
    "\n",
    "+ ###### Most of nationalities have the average age that is above 20 and below 30.\n",
    "+ ###### The average age range in different nationalities is between 17 to 35."
   ]
  },
  {
   "cell_type": "markdown",
   "metadata": {},
   "source": [
    "2. Find the potential in every clubs (Order by descending order)"
   ]
  },
  {
   "cell_type": "code",
   "execution_count": 309,
   "metadata": {},
   "outputs": [
    {
     "data": {
      "text/html": [
       "<div>\n",
       "<style scoped>\n",
       "    .dataframe tbody tr th:only-of-type {\n",
       "        vertical-align: middle;\n",
       "    }\n",
       "\n",
       "    .dataframe tbody tr th {\n",
       "        vertical-align: top;\n",
       "    }\n",
       "\n",
       "    .dataframe thead th {\n",
       "        text-align: right;\n",
       "    }\n",
       "</style>\n",
       "<table border=\"1\" class=\"dataframe\">\n",
       "  <thead>\n",
       "    <tr style=\"text-align: right;\">\n",
       "      <th></th>\n",
       "      <th>Club</th>\n",
       "      <th>Potential average</th>\n",
       "    </tr>\n",
       "  </thead>\n",
       "  <tbody>\n",
       "    <tr>\n",
       "      <th>0</th>\n",
       "      <td>Real Madrid CF</td>\n",
       "      <td>85.961538</td>\n",
       "    </tr>\n",
       "    <tr>\n",
       "      <th>1</th>\n",
       "      <td>FC Barcelona</td>\n",
       "      <td>85.560000</td>\n",
       "    </tr>\n",
       "    <tr>\n",
       "      <th>2</th>\n",
       "      <td>FC Bayern Munich</td>\n",
       "      <td>84.500000</td>\n",
       "    </tr>\n",
       "    <tr>\n",
       "      <th>3</th>\n",
       "      <td>Juventus</td>\n",
       "      <td>84.038462</td>\n",
       "    </tr>\n",
       "    <tr>\n",
       "      <th>4</th>\n",
       "      <td>Paris Saint-Germain</td>\n",
       "      <td>83.357143</td>\n",
       "    </tr>\n",
       "    <tr>\n",
       "      <th>5</th>\n",
       "      <td>Manchester United</td>\n",
       "      <td>83.235294</td>\n",
       "    </tr>\n",
       "    <tr>\n",
       "      <th>6</th>\n",
       "      <td>Chelsea</td>\n",
       "      <td>82.606061</td>\n",
       "    </tr>\n",
       "    <tr>\n",
       "      <th>7</th>\n",
       "      <td>Manchester City</td>\n",
       "      <td>82.363636</td>\n",
       "    </tr>\n",
       "    <tr>\n",
       "      <th>8</th>\n",
       "      <td>Liverpool</td>\n",
       "      <td>82.031250</td>\n",
       "    </tr>\n",
       "    <tr>\n",
       "      <th>9</th>\n",
       "      <td>Atlético Madrid</td>\n",
       "      <td>81.968750</td>\n",
       "    </tr>\n",
       "  </tbody>\n",
       "</table>\n",
       "</div>"
      ],
      "text/plain": [
       "                  Club  Potential average\n",
       "0       Real Madrid CF          85.961538\n",
       "1         FC Barcelona          85.560000\n",
       "2     FC Bayern Munich          84.500000\n",
       "3             Juventus          84.038462\n",
       "4  Paris Saint-Germain          83.357143\n",
       "5    Manchester United          83.235294\n",
       "6              Chelsea          82.606061\n",
       "7      Manchester City          82.363636\n",
       "8            Liverpool          82.031250\n",
       "9      Atlético Madrid          81.968750"
      ]
     },
     "metadata": {},
     "output_type": "display_data"
    }
   ],
   "source": [
    "#2\n",
    "display(df_fifa_1.groupby('Club')[\"Potential\"].mean().sort_values(ascending=False).reset_index(name='Potential average')[:10])"
   ]
  },
  {
   "cell_type": "markdown",
   "metadata": {},
   "source": [
    "Summary 2 : \n",
    "\n",
    "+ ###### The clubs have the most highest potential rating is Real Madrid CF, FC Barcelona and FC Bayern Munich.\n",
    "+ ###### The top three clubs got the average potential rating above 84.5"
   ]
  },
  {
   "cell_type": "markdown",
   "metadata": {},
   "source": [
    "3. Find the average wage in every club (Order by descending order)"
   ]
  },
  {
   "cell_type": "code",
   "execution_count": 310,
   "metadata": {},
   "outputs": [
    {
     "data": {
      "text/html": [
       "<div>\n",
       "<style scoped>\n",
       "    .dataframe tbody tr th:only-of-type {\n",
       "        vertical-align: middle;\n",
       "    }\n",
       "\n",
       "    .dataframe tbody tr th {\n",
       "        vertical-align: top;\n",
       "    }\n",
       "\n",
       "    .dataframe thead th {\n",
       "        text-align: right;\n",
       "    }\n",
       "</style>\n",
       "<table border=\"1\" class=\"dataframe\">\n",
       "  <thead>\n",
       "    <tr style=\"text-align: right;\">\n",
       "      <th></th>\n",
       "      <th>Club</th>\n",
       "      <th>Wage average</th>\n",
       "    </tr>\n",
       "  </thead>\n",
       "  <tbody>\n",
       "    <tr>\n",
       "      <th>0</th>\n",
       "      <td>FC Barcelona</td>\n",
       "      <td>191680.000000</td>\n",
       "    </tr>\n",
       "    <tr>\n",
       "      <th>1</th>\n",
       "      <td>Real Madrid CF</td>\n",
       "      <td>182730.769231</td>\n",
       "    </tr>\n",
       "    <tr>\n",
       "      <th>2</th>\n",
       "      <td>FC Bayern Munich</td>\n",
       "      <td>125884.615385</td>\n",
       "    </tr>\n",
       "    <tr>\n",
       "      <th>3</th>\n",
       "      <td>Juventus</td>\n",
       "      <td>121730.769231</td>\n",
       "    </tr>\n",
       "    <tr>\n",
       "      <th>4</th>\n",
       "      <td>Manchester United</td>\n",
       "      <td>107441.176471</td>\n",
       "    </tr>\n",
       "    <tr>\n",
       "      <th>5</th>\n",
       "      <td>Chelsea</td>\n",
       "      <td>107181.818182</td>\n",
       "    </tr>\n",
       "    <tr>\n",
       "      <th>6</th>\n",
       "      <td>Manchester City</td>\n",
       "      <td>95515.151515</td>\n",
       "    </tr>\n",
       "    <tr>\n",
       "      <th>7</th>\n",
       "      <td>Arsenal</td>\n",
       "      <td>91121.212121</td>\n",
       "    </tr>\n",
       "    <tr>\n",
       "      <th>8</th>\n",
       "      <td>Liverpool</td>\n",
       "      <td>83250.000000</td>\n",
       "    </tr>\n",
       "    <tr>\n",
       "      <th>9</th>\n",
       "      <td>Paris Saint-Germain</td>\n",
       "      <td>78500.000000</td>\n",
       "    </tr>\n",
       "  </tbody>\n",
       "</table>\n",
       "</div>"
      ],
      "text/plain": [
       "                  Club   Wage average\n",
       "0         FC Barcelona  191680.000000\n",
       "1       Real Madrid CF  182730.769231\n",
       "2     FC Bayern Munich  125884.615385\n",
       "3             Juventus  121730.769231\n",
       "4    Manchester United  107441.176471\n",
       "5              Chelsea  107181.818182\n",
       "6      Manchester City   95515.151515\n",
       "7              Arsenal   91121.212121\n",
       "8            Liverpool   83250.000000\n",
       "9  Paris Saint-Germain   78500.000000"
      ]
     },
     "metadata": {},
     "output_type": "display_data"
    }
   ],
   "source": [
    "#3\n",
    "display(df_fifa_1.groupby('Club')[\"Wage\"].mean().sort_values(ascending=False).reset_index(name='Wage average')[:10])"
   ]
  },
  {
   "cell_type": "markdown",
   "metadata": {},
   "source": [
    "Summary 3 : \n",
    "\n",
    "+ ###### The clubs have the most highest wage rating is FC Barcelona, Real Madrid CF and FC Bayern Munich.\n",
    "+ ###### The top three clubs are similar to the second statiscal function."
   ]
  },
  {
   "cell_type": "markdown",
   "metadata": {},
   "source": [
    "4. In every age group, find the average overall, potential, value , wage and special \n",
    "+ ###### Order by Wage in both descending and ascending order\n",
    "\n",
    "###### Player salaries depend on age, position, and other factors. In general, players over **26** years old command the highest salaries."
   ]
  },
  {
   "cell_type": "code",
   "execution_count": 311,
   "metadata": {},
   "outputs": [
    {
     "data": {
      "text/html": [
       "<div>\n",
       "<style scoped>\n",
       "    .dataframe tbody tr th:only-of-type {\n",
       "        vertical-align: middle;\n",
       "    }\n",
       "\n",
       "    .dataframe tbody tr th {\n",
       "        vertical-align: top;\n",
       "    }\n",
       "\n",
       "    .dataframe thead th {\n",
       "        text-align: right;\n",
       "    }\n",
       "</style>\n",
       "<table border=\"1\" class=\"dataframe\">\n",
       "  <thead>\n",
       "    <tr style=\"text-align: right;\">\n",
       "      <th></th>\n",
       "      <th>Overall</th>\n",
       "      <th>Potential</th>\n",
       "      <th>Value</th>\n",
       "      <th>Wage</th>\n",
       "      <th>Special</th>\n",
       "    </tr>\n",
       "    <tr>\n",
       "      <th>Age</th>\n",
       "      <th></th>\n",
       "      <th></th>\n",
       "      <th></th>\n",
       "      <th></th>\n",
       "      <th></th>\n",
       "    </tr>\n",
       "  </thead>\n",
       "  <tbody>\n",
       "    <tr>\n",
       "      <th>30</th>\n",
       "      <td>69.871959</td>\n",
       "      <td>69.878361</td>\n",
       "      <td>3.607939e+06</td>\n",
       "      <td>19393.085787</td>\n",
       "      <td>1686.676056</td>\n",
       "    </tr>\n",
       "    <tr>\n",
       "      <th>31</th>\n",
       "      <td>69.798771</td>\n",
       "      <td>69.798771</td>\n",
       "      <td>3.036083e+06</td>\n",
       "      <td>17393.241167</td>\n",
       "      <td>1678.764977</td>\n",
       "    </tr>\n",
       "    <tr>\n",
       "      <th>28</th>\n",
       "      <td>69.071359</td>\n",
       "      <td>69.319648</td>\n",
       "      <td>3.383226e+06</td>\n",
       "      <td>17129.032258</td>\n",
       "      <td>1670.641251</td>\n",
       "    </tr>\n",
       "  </tbody>\n",
       "</table>\n",
       "</div>"
      ],
      "text/plain": [
       "       Overall  Potential         Value          Wage      Special\n",
       "Age                                                               \n",
       "30   69.871959  69.878361  3.607939e+06  19393.085787  1686.676056\n",
       "31   69.798771  69.798771  3.036083e+06  17393.241167  1678.764977\n",
       "28   69.071359  69.319648  3.383226e+06  17129.032258  1670.641251"
      ]
     },
     "metadata": {},
     "output_type": "display_data"
    },
    {
     "data": {
      "text/html": [
       "<div>\n",
       "<style scoped>\n",
       "    .dataframe tbody tr th:only-of-type {\n",
       "        vertical-align: middle;\n",
       "    }\n",
       "\n",
       "    .dataframe tbody tr th {\n",
       "        vertical-align: top;\n",
       "    }\n",
       "\n",
       "    .dataframe thead th {\n",
       "        text-align: right;\n",
       "    }\n",
       "</style>\n",
       "<table border=\"1\" class=\"dataframe\">\n",
       "  <thead>\n",
       "    <tr style=\"text-align: right;\">\n",
       "      <th></th>\n",
       "      <th>Overall</th>\n",
       "      <th>Potential</th>\n",
       "      <th>Value</th>\n",
       "      <th>Wage</th>\n",
       "      <th>Special</th>\n",
       "    </tr>\n",
       "    <tr>\n",
       "      <th>Age</th>\n",
       "      <th></th>\n",
       "      <th></th>\n",
       "      <th></th>\n",
       "      <th></th>\n",
       "      <th></th>\n",
       "    </tr>\n",
       "  </thead>\n",
       "  <tbody>\n",
       "    <tr>\n",
       "      <th>47</th>\n",
       "      <td>46.000000</td>\n",
       "      <td>46.000000</td>\n",
       "      <td>0.000000</td>\n",
       "      <td>1000.000000</td>\n",
       "      <td>832.000000</td>\n",
       "    </tr>\n",
       "    <tr>\n",
       "      <th>43</th>\n",
       "      <td>55.000000</td>\n",
       "      <td>55.000000</td>\n",
       "      <td>10000.000000</td>\n",
       "      <td>1000.000000</td>\n",
       "      <td>1044.000000</td>\n",
       "    </tr>\n",
       "    <tr>\n",
       "      <th>16</th>\n",
       "      <td>57.846154</td>\n",
       "      <td>76.538462</td>\n",
       "      <td>331153.846154</td>\n",
       "      <td>1846.153846</td>\n",
       "      <td>1397.692308</td>\n",
       "    </tr>\n",
       "  </tbody>\n",
       "</table>\n",
       "</div>"
      ],
      "text/plain": [
       "       Overall  Potential          Value         Wage      Special\n",
       "Age                                                               \n",
       "47   46.000000  46.000000       0.000000  1000.000000   832.000000\n",
       "43   55.000000  55.000000   10000.000000  1000.000000  1044.000000\n",
       "16   57.846154  76.538462  331153.846154  1846.153846  1397.692308"
      ]
     },
     "metadata": {},
     "output_type": "display_data"
    }
   ],
   "source": [
    "#4\n",
    "col_lst = [\"Overall\", \"Potential\", \"Value\", \"Wage\", \"Special\"]\n",
    "\n",
    "display(df_fifa_1.groupby('Age')[col_lst].mean().sort_values(by=\"Wage\",ascending=False)[:3])\n",
    "display(df_fifa_1.groupby('Age')[col_lst].mean().sort_values(by=\"Wage\")[:3])"
   ]
  },
  {
   "cell_type": "markdown",
   "metadata": {},
   "source": [
    "Summary 4 : \n",
    "\n",
    "+ ###### The Age group have the highest wage is 30 and the lowest wage is 47.\n",
    "+ ###### Generally, for age groups with highest wage, the overall, potential rating, value, and special rating is higher than that with lower wage."
   ]
  },
  {
   "cell_type": "markdown",
   "metadata": {},
   "source": [
    "5. In every age group, find the average overall, potential, value , wage and special \n",
    "+ ###### Order by Potential descending and ascending order"
   ]
  },
  {
   "cell_type": "code",
   "execution_count": 312,
   "metadata": {},
   "outputs": [
    {
     "data": {
      "text/html": [
       "<div>\n",
       "<style scoped>\n",
       "    .dataframe tbody tr th:only-of-type {\n",
       "        vertical-align: middle;\n",
       "    }\n",
       "\n",
       "    .dataframe tbody tr th {\n",
       "        vertical-align: top;\n",
       "    }\n",
       "\n",
       "    .dataframe thead th {\n",
       "        text-align: right;\n",
       "    }\n",
       "</style>\n",
       "<table border=\"1\" class=\"dataframe\">\n",
       "  <thead>\n",
       "    <tr style=\"text-align: right;\">\n",
       "      <th></th>\n",
       "      <th>Overall</th>\n",
       "      <th>Potential</th>\n",
       "      <th>Value</th>\n",
       "      <th>Wage</th>\n",
       "      <th>Special</th>\n",
       "    </tr>\n",
       "    <tr>\n",
       "      <th>Age</th>\n",
       "      <th></th>\n",
       "      <th></th>\n",
       "      <th></th>\n",
       "      <th></th>\n",
       "      <th></th>\n",
       "    </tr>\n",
       "  </thead>\n",
       "  <tbody>\n",
       "    <tr>\n",
       "      <th>16</th>\n",
       "      <td>57.846154</td>\n",
       "      <td>76.538462</td>\n",
       "      <td>331153.846154</td>\n",
       "      <td>1846.153846</td>\n",
       "      <td>1397.692308</td>\n",
       "    </tr>\n",
       "    <tr>\n",
       "      <th>17</th>\n",
       "      <td>56.089147</td>\n",
       "      <td>73.492248</td>\n",
       "      <td>322519.379845</td>\n",
       "      <td>2174.418605</td>\n",
       "      <td>1339.403101</td>\n",
       "    </tr>\n",
       "    <tr>\n",
       "      <th>19</th>\n",
       "      <td>59.420263</td>\n",
       "      <td>72.806754</td>\n",
       "      <td>719863.976548</td>\n",
       "      <td>3577.861163</td>\n",
       "      <td>1437.559099</td>\n",
       "    </tr>\n",
       "  </tbody>\n",
       "</table>\n",
       "</div>"
      ],
      "text/plain": [
       "       Overall  Potential          Value         Wage      Special\n",
       "Age                                                               \n",
       "16   57.846154  76.538462  331153.846154  1846.153846  1397.692308\n",
       "17   56.089147  73.492248  322519.379845  2174.418605  1339.403101\n",
       "19   59.420263  72.806754  719863.976548  3577.861163  1437.559099"
      ]
     },
     "metadata": {},
     "output_type": "display_data"
    },
    {
     "data": {
      "text/html": [
       "<div>\n",
       "<style scoped>\n",
       "    .dataframe tbody tr th:only-of-type {\n",
       "        vertical-align: middle;\n",
       "    }\n",
       "\n",
       "    .dataframe tbody tr th {\n",
       "        vertical-align: top;\n",
       "    }\n",
       "\n",
       "    .dataframe thead th {\n",
       "        text-align: right;\n",
       "    }\n",
       "</style>\n",
       "<table border=\"1\" class=\"dataframe\">\n",
       "  <thead>\n",
       "    <tr style=\"text-align: right;\">\n",
       "      <th></th>\n",
       "      <th>Overall</th>\n",
       "      <th>Potential</th>\n",
       "      <th>Value</th>\n",
       "      <th>Wage</th>\n",
       "      <th>Special</th>\n",
       "    </tr>\n",
       "    <tr>\n",
       "      <th>Age</th>\n",
       "      <th></th>\n",
       "      <th></th>\n",
       "      <th></th>\n",
       "      <th></th>\n",
       "      <th></th>\n",
       "    </tr>\n",
       "  </thead>\n",
       "  <tbody>\n",
       "    <tr>\n",
       "      <th>47</th>\n",
       "      <td>46.000000</td>\n",
       "      <td>46.000000</td>\n",
       "      <td>0.000000</td>\n",
       "      <td>1000.0</td>\n",
       "      <td>832.000000</td>\n",
       "    </tr>\n",
       "    <tr>\n",
       "      <th>43</th>\n",
       "      <td>55.000000</td>\n",
       "      <td>55.000000</td>\n",
       "      <td>10000.000000</td>\n",
       "      <td>1000.0</td>\n",
       "      <td>1044.000000</td>\n",
       "    </tr>\n",
       "    <tr>\n",
       "      <th>41</th>\n",
       "      <td>64.333333</td>\n",
       "      <td>64.333333</td>\n",
       "      <td>26666.666667</td>\n",
       "      <td>2000.0</td>\n",
       "      <td>1125.333333</td>\n",
       "    </tr>\n",
       "  </tbody>\n",
       "</table>\n",
       "</div>"
      ],
      "text/plain": [
       "       Overall  Potential         Value    Wage      Special\n",
       "Age                                                         \n",
       "47   46.000000  46.000000      0.000000  1000.0   832.000000\n",
       "43   55.000000  55.000000  10000.000000  1000.0  1044.000000\n",
       "41   64.333333  64.333333  26666.666667  2000.0  1125.333333"
      ]
     },
     "metadata": {},
     "output_type": "display_data"
    }
   ],
   "source": [
    "#5\n",
    "col_lst = [\"Overall\", \"Potential\", \"Value\", \"Wage\", \"Special\"]\n",
    "\n",
    "display(df_fifa_1.groupby('Age')[col_lst].mean().sort_values(by=\"Potential\",ascending=False)[:3])\n",
    "display(df_fifa_1.groupby('Age')[col_lst].mean().sort_values(by=\"Potential\")[:3])"
   ]
  },
  {
   "cell_type": "markdown",
   "metadata": {},
   "source": [
    "Summary 5 : \n",
    "\n",
    "+ ###### The Age group have the highest potential is 16 and the lowest potential is 47.\n",
    "+ ###### Generally, for age groups with highest potential, the value rating is much higher than that with lower potential."
   ]
  },
  {
   "cell_type": "markdown",
   "metadata": {},
   "source": [
    " ##### **Part 4**\n",
    "+ ###### Create 5 graphs where they visualises different information using matplotlib, seaborn and ggplot\n",
    "+ ###### Cleansing unused columns from the DataFrame\n"
   ]
  },
  {
   "cell_type": "markdown",
   "metadata": {},
   "source": [
    "Graph 1. Group the players by Age and find the average players of potential"
   ]
  },
  {
   "cell_type": "code",
   "execution_count": 313,
   "metadata": {},
   "outputs": [
    {
     "data": {
      "image/png": "[encoded data removed]",
      "text/plain": [
       "<Figure size 1000x500 with 1 Axes>"
      ]
     },
     "metadata": {},
     "output_type": "display_data"
    }
   ],
   "source": [
    "courses = list(df_fifa_1.groupby('Age')[\"Potential\"].mean().keys())\n",
    "values = list(df_fifa_1.groupby('Age')[\"Potential\"].mean().values)\n",
    "  \n",
    "fig = plt.figure(figsize = (10, 5))\n",
    "\n",
    "plt.bar(courses, values, width = 0.6)\n",
    "plt.ylim(40,80) \n",
    "plt.xlabel(\"Age groups\")\n",
    "plt.ylabel(\"Potential average\")\n",
    "plt.title(\"The average players of potential in different age groups\")\n",
    "plt.show()"
   ]
  },
  {
   "cell_type": "markdown",
   "metadata": {},
   "source": [
    "Summary 1 : \n",
    "\n",
    "+ ###### There is a **decreasing** trend when **increasing** the age groups."
   ]
  },
  {
   "cell_type": "markdown",
   "metadata": {},
   "source": [
    "Graph 2. Show the proportion of nationality in the 5 biggest clubs"
   ]
  },
  {
   "cell_type": "code",
   "execution_count": 314,
   "metadata": {},
   "outputs": [
    {
     "data": {
      "text/html": [
       "<div>\n",
       "<style scoped>\n",
       "    .dataframe tbody tr th:only-of-type {\n",
       "        vertical-align: middle;\n",
       "    }\n",
       "\n",
       "    .dataframe tbody tr th {\n",
       "        vertical-align: top;\n",
       "    }\n",
       "\n",
       "    .dataframe thead th {\n",
       "        text-align: right;\n",
       "    }\n",
       "</style>\n",
       "<table border=\"1\" class=\"dataframe\">\n",
       "  <thead>\n",
       "    <tr style=\"text-align: right;\">\n",
       "      <th></th>\n",
       "      <th>Club</th>\n",
       "      <th>count</th>\n",
       "    </tr>\n",
       "  </thead>\n",
       "  <tbody>\n",
       "    <tr>\n",
       "      <th>0</th>\n",
       "      <td>Villarreal CF</td>\n",
       "      <td>35</td>\n",
       "    </tr>\n",
       "    <tr>\n",
       "      <th>1</th>\n",
       "      <td>OGC Nice</td>\n",
       "      <td>34</td>\n",
       "    </tr>\n",
       "    <tr>\n",
       "      <th>2</th>\n",
       "      <td>Manchester United</td>\n",
       "      <td>34</td>\n",
       "    </tr>\n",
       "    <tr>\n",
       "      <th>3</th>\n",
       "      <td>VfL Wolfsburg</td>\n",
       "      <td>34</td>\n",
       "    </tr>\n",
       "    <tr>\n",
       "      <th>4</th>\n",
       "      <td>UD Las Palmas</td>\n",
       "      <td>34</td>\n",
       "    </tr>\n",
       "  </tbody>\n",
       "</table>\n",
       "</div>"
      ],
      "text/plain": [
       "                Club  count\n",
       "0      Villarreal CF     35\n",
       "1           OGC Nice     34\n",
       "2  Manchester United     34\n",
       "3      VfL Wolfsburg     34\n",
       "4      UD Las Palmas     34"
      ]
     },
     "metadata": {},
     "output_type": "display_data"
    }
   ],
   "source": [
    "display(df_fifa_1.groupby('Club').size().sort_values(ascending=False).reset_index(name='count')[:5] )"
   ]
  },
  {
   "cell_type": "code",
   "execution_count": 315,
   "metadata": {},
   "outputs": [],
   "source": [
    "club_lst = ['Villarreal CF', 'OGC Nice', 'Manchester United', 'VfL Wolfsburg', 'UD Las Palmas']"
   ]
  },
  {
   "cell_type": "code",
   "execution_count": 316,
   "metadata": {},
   "outputs": [],
   "source": [
    "pie_lst = {}\n",
    "\n",
    "for index, row in df_fifa_1.iterrows():\n",
    "    if row['Club'] in club_lst:\n",
    "        if row['Nationality'] not in pie_lst.keys():\n",
    "            pie_lst[row['Nationality']] = 1\n",
    "        else: \n",
    "            pie_lst[row['Nationality']] = pie_lst[row['Nationality']] + 1\n",
    "\n",
    "pie_lst_1 = { 'Other' : 0}\n",
    "for key , value in pie_lst.items():\n",
    "    if value < 3:\n",
    "        pie_lst_1['Other'] = pie_lst_1['Other'] + 1\n",
    "    else:\n",
    "        pie_lst_1[key] = value\n"
   ]
  },
  {
   "cell_type": "code",
   "execution_count": 317,
   "metadata": {},
   "outputs": [
    {
     "data": {
      "image/png": "[encoded data removed]",
      "text/plain": [
       "<Figure size 640x480 with 1 Axes>"
      ]
     },
     "metadata": {},
     "output_type": "display_data"
    }
   ],
   "source": [
    "labels = list(pie_lst_1.keys())\n",
    "values = list(pie_lst_1.values())\n",
    "\n",
    "plt.pie(values, labels=labels)\n",
    "plt.axis('equal')\n",
    "plt.ylabel(\"Proportion\")\n",
    "plt.xlabel(\"Nationality\")\n",
    "plt.title(\"The proportion of nationality in the 5 biggest clubs\")\n",
    "\n",
    "plt.show()"
   ]
  },
  {
   "cell_type": "markdown",
   "metadata": {},
   "source": [
    "Summary 2 : \n",
    "\n",
    "+ ###### **Spain** has the largest proportion in the top 5 largest clubs. And **France** comes to the next. "
   ]
  },
  {
   "cell_type": "markdown",
   "metadata": {},
   "source": [
    "Graph 3. Find the wages in different age groups"
   ]
  },
  {
   "cell_type": "markdown",
   "metadata": {},
   "source": [
    "###### Some data cleaning on nationality"
   ]
  },
  {
   "cell_type": "code",
   "execution_count": 318,
   "metadata": {},
   "outputs": [],
   "source": [
    "df_fifa_2 = df_fifa_1.copy()\n",
    "\n",
    "Val = df_fifa_2[\"Nationality\"]\n",
    "\n",
    "val_lst = []\n",
    "for i in Val:\n",
    "    if df_fifa_2.groupby('Nationality').size()[i] <= 300:  \n",
    "        val_lst.append('Other')\n",
    "    else:\n",
    "        val_lst.append(i)\n",
    "        \n",
    "df_fifa_2[\"Nationality\"] = val_lst"
   ]
  },
  {
   "cell_type": "code",
   "execution_count": 319,
   "metadata": {},
   "outputs": [
    {
     "data": {
      "image/png": "[encoded data removed]",
      "text/plain": [
       "<Figure size 640x480 with 1 Axes>"
      ]
     },
     "metadata": {},
     "output_type": "display_data"
    }
   ],
   "source": [
    "\n",
    "seaborn.set(style='whitegrid')\n",
    " \n",
    "ax = seaborn.scatterplot(x=\"Age\",\n",
    "                    y=\"Wage\",\n",
    "                    hue=\"Nationality\",\n",
    "                    data=df_fifa_2)\n",
    "seaborn.move_legend(ax, \"upper left\", bbox_to_anchor=(1, 1))\n",
    "\n",
    "plt.xlabel(\"Age groups\")\n",
    "plt.ylabel(\"Wage\")\n",
    "plt.title(\"The wages in different age groups\")\n",
    "\n",
    "plt.show()"
   ]
  },
  {
   "cell_type": "markdown",
   "metadata": {},
   "source": [
    "Summary 3 : \n",
    "\n",
    "+ ###### The trend for the age groups against wage is first increasing and then decreasing.\n",
    "+ ###### For the higher wage, it usually goes to the age group between 25 to 30."
   ]
  },
  {
   "cell_type": "markdown",
   "metadata": {},
   "source": [
    "Graph 4. The attacking ability for the Top 20 highest-paid players"
   ]
  },
  {
   "cell_type": "markdown",
   "metadata": {},
   "source": [
    "According to the dataset in sofifa.com, the attacking ability includes:\n",
    " + crossing, finishing, heading accuracy, short passing and volleys"
   ]
  },
  {
   "cell_type": "code",
   "execution_count": 320,
   "metadata": {},
   "outputs": [],
   "source": [
    "col = ['Crossing', 'Finishing', 'Heading accuracy', 'Short passing', 'Volleys'] "
   ]
  },
  {
   "cell_type": "code",
   "execution_count": 321,
   "metadata": {},
   "outputs": [
    {
     "data": {
      "text/html": [
       "<div>\n",
       "<style scoped>\n",
       "    .dataframe tbody tr th:only-of-type {\n",
       "        vertical-align: middle;\n",
       "    }\n",
       "\n",
       "    .dataframe tbody tr th {\n",
       "        vertical-align: top;\n",
       "    }\n",
       "\n",
       "    .dataframe thead th {\n",
       "        text-align: right;\n",
       "    }\n",
       "</style>\n",
       "<table border=\"1\" class=\"dataframe\">\n",
       "  <thead>\n",
       "    <tr style=\"text-align: right;\">\n",
       "      <th></th>\n",
       "      <th>Unnamed: 0</th>\n",
       "      <th>Name</th>\n",
       "      <th>Age</th>\n",
       "      <th>Photo</th>\n",
       "      <th>Nationality</th>\n",
       "      <th>Flag</th>\n",
       "      <th>Overall</th>\n",
       "      <th>Potential</th>\n",
       "      <th>Club</th>\n",
       "      <th>Club Logo</th>\n",
       "      <th>...</th>\n",
       "      <th>Reactions</th>\n",
       "      <th>Short passing</th>\n",
       "      <th>Shot power</th>\n",
       "      <th>Sliding tackle</th>\n",
       "      <th>Sprint speed</th>\n",
       "      <th>Stamina</th>\n",
       "      <th>Standing tackle</th>\n",
       "      <th>Strength</th>\n",
       "      <th>Vision</th>\n",
       "      <th>Volleys</th>\n",
       "    </tr>\n",
       "  </thead>\n",
       "  <tbody>\n",
       "    <tr>\n",
       "      <th>0</th>\n",
       "      <td>0</td>\n",
       "      <td>Cristiano Ronaldo</td>\n",
       "      <td>32</td>\n",
       "      <td>https://cdn.sofifa.org/48/18/players/20801.png</td>\n",
       "      <td>Portugal</td>\n",
       "      <td>https://cdn.sofifa.org/flags/38.png</td>\n",
       "      <td>94</td>\n",
       "      <td>94</td>\n",
       "      <td>Real Madrid CF</td>\n",
       "      <td>https://cdn.sofifa.org/24/18/teams/243.png</td>\n",
       "      <td>...</td>\n",
       "      <td>96</td>\n",
       "      <td>83</td>\n",
       "      <td>94</td>\n",
       "      <td>23</td>\n",
       "      <td>91</td>\n",
       "      <td>92</td>\n",
       "      <td>31</td>\n",
       "      <td>80</td>\n",
       "      <td>85</td>\n",
       "      <td>88</td>\n",
       "    </tr>\n",
       "    <tr>\n",
       "      <th>1</th>\n",
       "      <td>1</td>\n",
       "      <td>L. Messi</td>\n",
       "      <td>30</td>\n",
       "      <td>https://cdn.sofifa.org/48/18/players/158023.png</td>\n",
       "      <td>Argentina</td>\n",
       "      <td>https://cdn.sofifa.org/flags/52.png</td>\n",
       "      <td>93</td>\n",
       "      <td>93</td>\n",
       "      <td>FC Barcelona</td>\n",
       "      <td>https://cdn.sofifa.org/24/18/teams/241.png</td>\n",
       "      <td>...</td>\n",
       "      <td>95</td>\n",
       "      <td>88</td>\n",
       "      <td>85</td>\n",
       "      <td>26</td>\n",
       "      <td>87</td>\n",
       "      <td>73</td>\n",
       "      <td>28</td>\n",
       "      <td>59</td>\n",
       "      <td>90</td>\n",
       "      <td>85</td>\n",
       "    </tr>\n",
       "    <tr>\n",
       "      <th>3</th>\n",
       "      <td>3</td>\n",
       "      <td>L. Suárez</td>\n",
       "      <td>30</td>\n",
       "      <td>https://cdn.sofifa.org/48/18/players/176580.png</td>\n",
       "      <td>Uruguay</td>\n",
       "      <td>https://cdn.sofifa.org/flags/60.png</td>\n",
       "      <td>92</td>\n",
       "      <td>92</td>\n",
       "      <td>FC Barcelona</td>\n",
       "      <td>https://cdn.sofifa.org/24/18/teams/241.png</td>\n",
       "      <td>...</td>\n",
       "      <td>93</td>\n",
       "      <td>83</td>\n",
       "      <td>87</td>\n",
       "      <td>38</td>\n",
       "      <td>77</td>\n",
       "      <td>89</td>\n",
       "      <td>45</td>\n",
       "      <td>80</td>\n",
       "      <td>84</td>\n",
       "      <td>88</td>\n",
       "    </tr>\n",
       "    <tr>\n",
       "      <th>15</th>\n",
       "      <td>15</td>\n",
       "      <td>G. Bale</td>\n",
       "      <td>27</td>\n",
       "      <td>https://cdn.sofifa.org/48/18/players/173731.png</td>\n",
       "      <td>Wales</td>\n",
       "      <td>https://cdn.sofifa.org/flags/50.png</td>\n",
       "      <td>89</td>\n",
       "      <td>89</td>\n",
       "      <td>Real Madrid CF</td>\n",
       "      <td>https://cdn.sofifa.org/24/18/teams/243.png</td>\n",
       "      <td>...</td>\n",
       "      <td>87</td>\n",
       "      <td>86</td>\n",
       "      <td>91</td>\n",
       "      <td>52</td>\n",
       "      <td>95</td>\n",
       "      <td>76</td>\n",
       "      <td>55</td>\n",
       "      <td>80</td>\n",
       "      <td>79</td>\n",
       "      <td>76</td>\n",
       "    </tr>\n",
       "    <tr>\n",
       "      <th>5</th>\n",
       "      <td>5</td>\n",
       "      <td>R. Lewandowski</td>\n",
       "      <td>28</td>\n",
       "      <td>https://cdn.sofifa.org/48/18/players/188545.png</td>\n",
       "      <td>Poland</td>\n",
       "      <td>https://cdn.sofifa.org/flags/37.png</td>\n",
       "      <td>91</td>\n",
       "      <td>91</td>\n",
       "      <td>FC Bayern Munich</td>\n",
       "      <td>https://cdn.sofifa.org/24/18/teams/21.png</td>\n",
       "      <td>...</td>\n",
       "      <td>91</td>\n",
       "      <td>83</td>\n",
       "      <td>88</td>\n",
       "      <td>19</td>\n",
       "      <td>83</td>\n",
       "      <td>79</td>\n",
       "      <td>42</td>\n",
       "      <td>84</td>\n",
       "      <td>78</td>\n",
       "      <td>87</td>\n",
       "    </tr>\n",
       "  </tbody>\n",
       "</table>\n",
       "<p>5 rows × 48 columns</p>\n",
       "</div>"
      ],
      "text/plain": [
       "    Unnamed: 0               Name  Age  \\\n",
       "0            0  Cristiano Ronaldo   32   \n",
       "1            1           L. Messi   30   \n",
       "3            3          L. Suárez   30   \n",
       "15          15            G. Bale   27   \n",
       "5            5     R. Lewandowski   28   \n",
       "\n",
       "                                              Photo Nationality  \\\n",
       "0    https://cdn.sofifa.org/48/18/players/20801.png    Portugal   \n",
       "1   https://cdn.sofifa.org/48/18/players/158023.png   Argentina   \n",
       "3   https://cdn.sofifa.org/48/18/players/176580.png     Uruguay   \n",
       "15  https://cdn.sofifa.org/48/18/players/173731.png       Wales   \n",
       "5   https://cdn.sofifa.org/48/18/players/188545.png      Poland   \n",
       "\n",
       "                                   Flag  Overall  Potential              Club  \\\n",
       "0   https://cdn.sofifa.org/flags/38.png       94         94    Real Madrid CF   \n",
       "1   https://cdn.sofifa.org/flags/52.png       93         93      FC Barcelona   \n",
       "3   https://cdn.sofifa.org/flags/60.png       92         92      FC Barcelona   \n",
       "15  https://cdn.sofifa.org/flags/50.png       89         89    Real Madrid CF   \n",
       "5   https://cdn.sofifa.org/flags/37.png       91         91  FC Bayern Munich   \n",
       "\n",
       "                                     Club Logo  ...  Reactions  Short passing  \\\n",
       "0   https://cdn.sofifa.org/24/18/teams/243.png  ...         96             83   \n",
       "1   https://cdn.sofifa.org/24/18/teams/241.png  ...         95             88   \n",
       "3   https://cdn.sofifa.org/24/18/teams/241.png  ...         93             83   \n",
       "15  https://cdn.sofifa.org/24/18/teams/243.png  ...         87             86   \n",
       "5    https://cdn.sofifa.org/24/18/teams/21.png  ...         91             83   \n",
       "\n",
       "    Shot power  Sliding tackle  Sprint speed  Stamina  Standing tackle  \\\n",
       "0           94              23            91       92               31   \n",
       "1           85              26            87       73               28   \n",
       "3           87              38            77       89               45   \n",
       "15          91              52            95       76               55   \n",
       "5           88              19            83       79               42   \n",
       "\n",
       "    Strength  Vision  Volleys  \n",
       "0         80      85       88  \n",
       "1         59      90       85  \n",
       "3         80      84       88  \n",
       "15        80      79       76  \n",
       "5         84      78       87  \n",
       "\n",
       "[5 rows x 48 columns]"
      ]
     },
     "metadata": {},
     "output_type": "display_data"
    }
   ],
   "source": [
    "df_plot = df_fifa_1.sort_values(by=\"Wage\",ascending=False)[:20]\n",
    "\n",
    "display(df_plot[:5])"
   ]
  },
  {
   "cell_type": "markdown",
   "metadata": {},
   "source": [
    "###### Find the Top 20 highest-paid players"
   ]
  },
  {
   "cell_type": "code",
   "execution_count": 322,
   "metadata": {},
   "outputs": [],
   "source": [
    "attack_total = df_plot.loc[:,col].agg(\"sum\", axis=\"columns\")\n",
    "df_plot['attack_total'] = attack_total"
   ]
  },
  {
   "cell_type": "code",
   "execution_count": 323,
   "metadata": {},
   "outputs": [],
   "source": [
    "import seaborn"
   ]
  },
  {
   "cell_type": "code",
   "execution_count": 324,
   "metadata": {},
   "outputs": [
    {
     "data": {
      "image/png": "[encoded data removed]",
      "text/plain": [
       "<Figure size 640x480 with 1 Axes>"
      ]
     },
     "metadata": {},
     "output_type": "display_data"
    }
   ],
   "source": [
    "ax = df_plot.plot(x='Name', y='attack_total', kind=\"bar\", width=0.7)\n",
    "import seaborn as sns\n",
    "seaborn.move_legend(ax, \"upper left\", bbox_to_anchor=(1, 1)) \n",
    "seaborn.set_palette(\"Set1\")\n",
    "plt.ylim(260,460)\n",
    "plt.xlabel(\"Top 20 highest-paid players\")\n",
    "plt.ylabel(\"Wages\")\n",
    "plt.title(\"The attacking ability for the Top 20 highest-paid players\")\n",
    "\n",
    "plt.show()"
   ]
  },
  {
   "cell_type": "markdown",
   "metadata": {},
   "source": [
    "Summary 4 : \n",
    "\n",
    "+ ###### The top 20 highest-paid players usually have high attacking ability.\n",
    "+ ###### Some of them may be players in other position, so they have a lower attacking ability."
   ]
  },
  {
   "cell_type": "markdown",
   "metadata": {},
   "source": [
    "Graph 5. Find the Wage in different nationality and see its relationship with overall value."
   ]
  },
  {
   "cell_type": "code",
   "execution_count": 325,
   "metadata": {},
   "outputs": [
    {
     "data": {
      "image/png": "[encoded data removed]",
      "text/plain": [
       "<Figure size 640x480 with 1 Axes>"
      ]
     },
     "metadata": {},
     "output_type": "display_data"
    },
    {
     "data": {
      "text/plain": [
       "<ggplot: (163510847795)>"
      ]
     },
     "execution_count": 325,
     "metadata": {},
     "output_type": "execute_result"
    }
   ],
   "source": [
    "from pandas.api.types import CategoricalDtype\n",
    "from plotnine import *\n",
    "%matplotlib inline\n",
    "\n",
    "(ggplot(df_fifa_2)\n",
    " + aes(x='Wage', y='Nationality', color='Overall')\n",
    " + geom_point()\n",
    " + coord_cartesian(xlim=(0,300000))\n",
    " + labs(title='The Wage in different nationality and its relationship with overall value.', x='Wage', y='Nationality')\n",
    ")\n"
   ]
  },
  {
   "cell_type": "markdown",
   "metadata": {},
   "source": [
    "Summary 5 : \n",
    "\n",
    "+ ###### Most players who has a high wage comes to spain\n",
    "+ ###### For each nationality, it shows that the increasing potential rating, there is a increasing wage too."
   ]
  },
  {
   "cell_type": "markdown",
   "metadata": {},
   "source": [
    "End of the Project"
   ]
  }
 ],
 "metadata": {
  "kernelspec": {
   "display_name": "Python 3",
   "language": "python",
   "name": "python3"
  },
  "language_info": {
   "codemirror_mode": {
    "name": "ipython",
    "version": 3
   },
   "file_extension": ".py",
   "mimetype": "text/x-python",
   "name": "python",
   "nbconvert_exporter": "python",
   "pygments_lexer": "ipython3",
   "version": "3.8.8"
  },
  "vscode": {
   "interpreter": {
    "hash": "7e48b34069e588707ff4b666a865fe48f1928cc29f8ffddbc571266e0f70884a"
   }
  }
 },
 "nbformat": 4,
 "nbformat_minor": 2
}
